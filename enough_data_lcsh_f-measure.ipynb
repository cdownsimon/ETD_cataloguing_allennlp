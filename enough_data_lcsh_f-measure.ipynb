{
 "cells": [
  {
   "cell_type": "code",
   "execution_count": 14,
   "metadata": {},
   "outputs": [],
   "source": [
    "import json\n",
    "from tqdm import tqdm"
   ]
  },
  {
   "cell_type": "code",
   "execution_count": 48,
   "metadata": {},
   "outputs": [],
   "source": [
    "# Load CUHK validate data and targeted LCSH\n",
    "etd_json = []\n",
    "with open('./data/cuhk_etd_abstract_validate.json','r') as f:\n",
    "    for line in f.readlines():\n",
    "        line = line.strip(\"\\n\")\n",
    "        if not line:\n",
    "            continue\n",
    "        etd_json.append(json.loads(line))\n",
    "        \n",
    "etd_result = []\n",
    "# with open('./data/cuhk_pretrained_wv_result.json','r') as f:\n",
    "with open('./result/no_cuhk_etd_as_training_pretrained_wv_maxout/cuhk_etd_abstract_validate_prediction.json', 'r') as f:\n",
    "    for line in f.readlines():\n",
    "        line = line.strip(\"\\n\")\n",
    "        if not line:\n",
    "            continue\n",
    "        etd_result.append(json.loads(line))\n",
    "        \n",
    "with open('./data/enough_train_data_lcsh.json','r') as f:\n",
    "    enough_lcsh = json.load(f)"
   ]
  },
  {
   "cell_type": "code",
   "execution_count": 16,
   "metadata": {},
   "outputs": [
    {
     "data": {
      "text/plain": [
       "2928"
      ]
     },
     "execution_count": 16,
     "metadata": {},
     "output_type": "execute_result"
    }
   ],
   "source": [
    "len(enough_lcsh)"
   ]
  },
  {
   "cell_type": "markdown",
   "metadata": {},
   "source": [
    "### Calculate f1-measure (>= 25 only)"
   ]
  },
  {
   "cell_type": "code",
   "execution_count": 8,
   "metadata": {},
   "outputs": [],
   "source": [
    "targeted_lcsh = enough_lcsh.keys()"
   ]
  },
  {
   "cell_type": "code",
   "execution_count": 9,
   "metadata": {},
   "outputs": [],
   "source": [
    "TP = {i:0.0 for i in targeted_lcsh}\n",
    "TN = {i:0.0 for i in targeted_lcsh}\n",
    "FP = {i:0.0 for i in targeted_lcsh}\n",
    "FN = {i:0.0 for i in targeted_lcsh}"
   ]
  },
  {
   "cell_type": "code",
   "execution_count": 10,
   "metadata": {},
   "outputs": [
    {
     "name": "stderr",
     "output_type": "stream",
     "text": [
      "100%|██████████| 2928/2928 [00:21<00:00, 136.06it/s]\n"
     ]
    }
   ],
   "source": [
    "for i in tqdm(targeted_lcsh):\n",
    "    for true,pred in zip(etd_json,etd_result):\n",
    "        t = true['lcsh'].keys()\n",
    "        p = pred.keys()\n",
    "        if i in t and i in p:\n",
    "            TP[i] += 1\n",
    "        if i not in t and i not in p:\n",
    "            TN[i] += 1\n",
    "        if i not in t and i in p:\n",
    "            FP[i] += 1\n",
    "        if i in t and i not in p:\n",
    "            FN[i] += 1"
   ]
  },
  {
   "cell_type": "code",
   "execution_count": 11,
   "metadata": {},
   "outputs": [],
   "source": [
    "f_measure = {i:{} for i in targeted_lcsh}"
   ]
  },
  {
   "cell_type": "code",
   "execution_count": 12,
   "metadata": {},
   "outputs": [
    {
     "name": "stderr",
     "output_type": "stream",
     "text": [
      "100%|██████████| 2928/2928 [00:00<00:00, 629306.80it/s]\n"
     ]
    }
   ],
   "source": [
    "for i in tqdm(targeted_lcsh):\n",
    "    f_measure[i]['precision'] = TP[i] / (TP[i] + FP[i] + 1e-13)\n",
    "    f_measure[i]['recall'] = TP[i] / (TP[i] + FN[i] + 1e-13)\n",
    "    f_measure[i]['f1'] = 2*f_measure[i]['precision']*f_measure[i]['recall'] / (f_measure[i]['precision']+f_measure[i]['recall']+1e-13)"
   ]
  },
  {
   "cell_type": "code",
   "execution_count": 13,
   "metadata": {},
   "outputs": [],
   "source": [
    "macro_precision = sum(f_measure[i]['precision'] for i in targeted_lcsh)/len(targeted_lcsh)\n",
    "macro_recall = sum(f_measure[i]['recall'] for i in targeted_lcsh)/len(targeted_lcsh)\n",
    "macro_f1 = 2*macro_precision*macro_recall/(macro_precision+macro_recall+1e-13)"
   ]
  },
  {
   "cell_type": "code",
   "execution_count": 14,
   "metadata": {},
   "outputs": [
    {
     "data": {
      "text/plain": [
       "(0.12668266475820214, 0.1454432223591526, 0.13541626028048218)"
      ]
     },
     "execution_count": 14,
     "metadata": {},
     "output_type": "execute_result"
    }
   ],
   "source": [
    "macro_precision,macro_recall,macro_f1"
   ]
  },
  {
   "cell_type": "markdown",
   "metadata": {},
   "source": [
    "### Calculate hit@5 >= 25 only"
   ]
  },
  {
   "cell_type": "code",
   "execution_count": 15,
   "metadata": {},
   "outputs": [
    {
     "name": "stderr",
     "output_type": "stream",
     "text": [
      "10373it [00:01, 8725.11it/s]\n"
     ]
    }
   ],
   "source": [
    "hit_5 = 0.0\n",
    "cnt = 0\n",
    "for true,pred in tqdm(zip(etd_json,etd_result)):\n",
    "    matched = 0\n",
    "    t = true['lcsh'].keys()\n",
    "    p = pred.keys()\n",
    "    if any(elem in t for elem in targeted_lcsh):\n",
    "        for i in t:\n",
    "            if i in p:\n",
    "                matched += 1\n",
    "        cnt += 1\n",
    "    hit_5 += matched/len(t)\n",
    "hit_5 = hit_5 / cnt"
   ]
  },
  {
   "cell_type": "code",
   "execution_count": 16,
   "metadata": {},
   "outputs": [
    {
     "data": {
      "text/plain": [
       "0.1892589316149126"
      ]
     },
     "execution_count": 16,
     "metadata": {},
     "output_type": "execute_result"
    }
   ],
   "source": [
    "hit_5"
   ]
  },
  {
   "cell_type": "markdown",
   "metadata": {},
   "source": [
    "### Calculate f1-measure"
   ]
  },
  {
   "cell_type": "code",
   "execution_count": 49,
   "metadata": {},
   "outputs": [],
   "source": [
    "targeted_lcsh = []\n",
    "for i in etd_json:\n",
    "    targeted_lcsh += list(i['lcsh'].keys())\n",
    "targeted_lcsh = set(targeted_lcsh)"
   ]
  },
  {
   "cell_type": "code",
   "execution_count": 18,
   "metadata": {},
   "outputs": [],
   "source": [
    "TP = {i:0.0 for i in targeted_lcsh}\n",
    "TN = {i:0.0 for i in targeted_lcsh}\n",
    "FP = {i:0.0 for i in targeted_lcsh}\n",
    "FN = {i:0.0 for i in targeted_lcsh}"
   ]
  },
  {
   "cell_type": "code",
   "execution_count": 19,
   "metadata": {},
   "outputs": [
    {
     "name": "stderr",
     "output_type": "stream",
     "text": [
      "100%|██████████| 6927/6927 [00:49<00:00, 141.31it/s]\n"
     ]
    }
   ],
   "source": [
    "for i in tqdm(targeted_lcsh):\n",
    "    for true,pred in zip(etd_json,etd_result):\n",
    "        t = true['lcsh'].keys()\n",
    "        p = pred.keys()\n",
    "        if i in t and i in p:\n",
    "            TP[i] += 1\n",
    "        if i not in t and i not in p:\n",
    "            TN[i] += 1\n",
    "        if i not in t and i in p:\n",
    "            FP[i] += 1\n",
    "        if i in t and i not in p:\n",
    "            FN[i] += 1"
   ]
  },
  {
   "cell_type": "code",
   "execution_count": 20,
   "metadata": {},
   "outputs": [],
   "source": [
    "f_measure = {i:{} for i in targeted_lcsh}"
   ]
  },
  {
   "cell_type": "code",
   "execution_count": 21,
   "metadata": {},
   "outputs": [
    {
     "name": "stderr",
     "output_type": "stream",
     "text": [
      "100%|██████████| 6927/6927 [00:00<00:00, 713733.36it/s]\n"
     ]
    }
   ],
   "source": [
    "for i in tqdm(targeted_lcsh):\n",
    "    f_measure[i]['precision'] = TP[i] / (TP[i] + FP[i] + 1e-13)\n",
    "    f_measure[i]['recall'] = TP[i] / (TP[i] + FN[i] + 1e-13)\n",
    "    f_measure[i]['f1'] = 2*f_measure[i]['precision']*f_measure[i]['recall'] / (f_measure[i]['precision']+f_measure[i]['recall']+1e-13)"
   ]
  },
  {
   "cell_type": "code",
   "execution_count": 22,
   "metadata": {},
   "outputs": [],
   "source": [
    "macro_precision = sum(f_measure[i]['precision'] for i in targeted_lcsh)/len(targeted_lcsh)\n",
    "macro_recall = sum(f_measure[i]['recall'] for i in targeted_lcsh)/len(targeted_lcsh)\n",
    "macro_f1 = 2*macro_precision*macro_recall/(macro_precision+macro_recall+1e-13)"
   ]
  },
  {
   "cell_type": "code",
   "execution_count": 23,
   "metadata": {},
   "outputs": [
    {
     "data": {
      "text/plain": [
       "(0.06502004446284776, 0.06971948733087048, 0.06728781235661276)"
      ]
     },
     "execution_count": 23,
     "metadata": {},
     "output_type": "execute_result"
    }
   ],
   "source": [
    "macro_precision,macro_recall,macro_f1"
   ]
  },
  {
   "cell_type": "markdown",
   "metadata": {
    "toc-hr-collapsed": false
   },
   "source": [
    "### Calculate hit@5"
   ]
  },
  {
   "cell_type": "code",
   "execution_count": 56,
   "metadata": {},
   "outputs": [
    {
     "name": "stderr",
     "output_type": "stream",
     "text": [
      "10373it [00:00, 126069.28it/s]\n"
     ]
    }
   ],
   "source": [
    "hit_5 = 0.0\n",
    "cnt = 0\n",
    "for true,pred in tqdm(zip(etd_json,etd_result)):\n",
    "    matched = 0\n",
    "    t = true['lcsh'].keys()\n",
    "#     p = pred.keys()\n",
    "    p = [i for i,_ in sorted(pred.items(), key=lambda x:x[1], reverse=True)[:5]]\n",
    "#     if any(elem in t for elem in targeted_lcsh):\n",
    "    for i in t:\n",
    "        if i in p:\n",
    "            matched += 1\n",
    "    cnt += 1\n",
    "    hit_5 += matched/len(t)\n",
    "hit_5 = hit_5 / cnt"
   ]
  },
  {
   "cell_type": "code",
   "execution_count": 57,
   "metadata": {},
   "outputs": [
    {
     "data": {
      "text/plain": [
       "0.128152185389725"
      ]
     },
     "execution_count": 57,
     "metadata": {},
     "output_type": "execute_result"
    }
   ],
   "source": [
    "hit_5"
   ]
  },
  {
   "cell_type": "code",
   "execution_count": 35,
   "metadata": {},
   "outputs": [
    {
     "data": {
      "text/plain": [
       "({'Computer graphics': 1, 'Lighting': 1},\n",
       " ['Computer science',\n",
       "  'Electrical engineering',\n",
       "  'Image processing',\n",
       "  'Optics',\n",
       "  'Mechanical engineering'])"
      ]
     },
     "execution_count": 35,
     "metadata": {},
     "output_type": "execute_result"
    }
   ],
   "source": [
    "idx = 30\n",
    "etd_json[idx]['lcsh'],[i for i,_ in sorted(etd_result[idx].items(), key=lambda x:x[1], reverse=True)[:5]]"
   ]
  },
  {
   "cell_type": "code",
   "execution_count": 12,
   "metadata": {},
   "outputs": [
    {
     "data": {
      "text/plain": [
       "['Personnel management', 'Business']"
      ]
     },
     "execution_count": 12,
     "metadata": {},
     "output_type": "execute_result"
    }
   ],
   "source": [
    "[i for i,_ in sorted(etd_result[0].items(), key=lambda x:x[1], reverse=True)[:5]]"
   ]
  },
  {
   "cell_type": "code",
   "execution_count": 8,
   "metadata": {},
   "outputs": [
    {
     "data": {
      "text/plain": [
       "{'Personnel management': 0.5543419718742371,\n",
       " 'Business': 0.5442637801170349,\n",
       " 'Management': 0.5279812216758728,\n",
       " 'International business enterprises': 0.4131326377391815,\n",
       " 'Industrial management': 0.38191887736320496}"
      ]
     },
     "execution_count": 8,
     "metadata": {},
     "output_type": "execute_result"
    }
   ],
   "source": [
    "etd_result[0]"
   ]
  }
 ],
 "metadata": {
  "kernelspec": {
   "display_name": "Python 3",
   "language": "python",
   "name": "python3"
  },
  "language_info": {
   "codemirror_mode": {
    "name": "ipython",
    "version": 3
   },
   "file_extension": ".py",
   "mimetype": "text/x-python",
   "name": "python",
   "nbconvert_exporter": "python",
   "pygments_lexer": "ipython3",
   "version": "3.6.6"
  },
  "toc-autonumbering": false,
  "toc-showcode": false,
  "toc-showmarkdowntxt": false,
  "toc-showtags": false
 },
 "nbformat": 4,
 "nbformat_minor": 2
}
