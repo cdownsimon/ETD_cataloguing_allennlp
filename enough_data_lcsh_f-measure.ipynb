{
 "cells": [
  {
   "cell_type": "code",
   "execution_count": 38,
   "metadata": {},
   "outputs": [],
   "source": [
    "import json\n",
    "from tqdm import tqdm"
   ]
  },
  {
   "cell_type": "code",
   "execution_count": 30,
   "metadata": {},
   "outputs": [],
   "source": [
    "# Load CUHK validate data and targeted LCSH\n",
    "etd_json = []\n",
    "with open('./cuhk_etd_abstract_validate.json','r') as f:\n",
    "    for line in f.readlines():\n",
    "        line = line.strip(\"\\n\")\n",
    "        if not line:\n",
    "            continue\n",
    "        etd_json.append(json.loads(line))\n",
    "        \n",
    "etd_result = []\n",
    "with open('./cuhk_pretrained_wv_result.json','r') as f:\n",
    "    for line in f.readlines():\n",
    "        line = line.strip(\"\\n\")\n",
    "        if not line:\n",
    "            continue\n",
    "        etd_result.append(json.loads(line))    \n",
    "        \n",
    "with open('./enough_train_data_lcsh.json','r') as f:\n",
    "    enough_lcsh = json.load(f)"
   ]
  },
  {
   "cell_type": "markdown",
   "metadata": {},
   "source": [
    "### Calculate f1-measure"
   ]
  },
  {
   "cell_type": "code",
   "execution_count": 31,
   "metadata": {},
   "outputs": [],
   "source": [
    "targeted_lcsh = enough_lcsh.keys()"
   ]
  },
  {
   "cell_type": "code",
   "execution_count": 32,
   "metadata": {},
   "outputs": [],
   "source": [
    "TP = {i:0.0 for i in targeted_lcsh}\n",
    "TN = {i:0.0 for i in targeted_lcsh}\n",
    "FP = {i:0.0 for i in targeted_lcsh}\n",
    "FN = {i:0.0 for i in targeted_lcsh}"
   ]
  },
  {
   "cell_type": "code",
   "execution_count": 41,
   "metadata": {},
   "outputs": [
    {
     "name": "stderr",
     "output_type": "stream",
     "text": [
      "100%|██████████| 2928/2928 [00:23<00:00, 124.96it/s]\n"
     ]
    }
   ],
   "source": [
    "for i in tqdm(targeted_lcsh):\n",
    "    for true,pred in zip(etd_json,etd_result):\n",
    "        t = true['lcsh'].keys()\n",
    "        p = pred.keys()\n",
    "        if i in t and i in p:\n",
    "            TP[i] += 1\n",
    "        if i not in t and i not in p:\n",
    "            TN[i] += 1\n",
    "        if i not in t and i in p:\n",
    "            FP[i] += 1\n",
    "        if i in t and i not in p:\n",
    "            FN[i] += 1"
   ]
  },
  {
   "cell_type": "code",
   "execution_count": 46,
   "metadata": {},
   "outputs": [],
   "source": [
    "f_measure = {i:{} for i in targeted_lcsh}"
   ]
  },
  {
   "cell_type": "code",
   "execution_count": 48,
   "metadata": {},
   "outputs": [
    {
     "name": "stderr",
     "output_type": "stream",
     "text": [
      "100%|██████████| 2928/2928 [00:00<00:00, 315445.45it/s]\n"
     ]
    }
   ],
   "source": [
    "for i in tqdm(targeted_lcsh):\n",
    "    f_measure[i]['precision'] = TP[i] / (TP[i] + FP[i] + 1e-13)\n",
    "    f_measure[i]['recall'] = TP[i] / (TP[i] + FN[i] + 1e-13)\n",
    "    f_measure[i]['f1'] = 2*f_measure[i]['precision']*f_measure[i]['recall'] / (f_measure[i]['precision']+f_measure[i]['recall']+1e-13)"
   ]
  },
  {
   "cell_type": "code",
   "execution_count": 54,
   "metadata": {},
   "outputs": [],
   "source": [
    "macro_precision = sum(f_measure[i]['precision'] for i in targeted_lcsh)/len(targeted_lcsh)\n",
    "macro_recall = sum(f_measure[i]['recall'] for i in targeted_lcsh)/len(targeted_lcsh)\n",
    "macro_f1 = 2*macro_precision*macro_recall/(macro_precision+macro_recall+1e-13)"
   ]
  },
  {
   "cell_type": "code",
   "execution_count": 55,
   "metadata": {},
   "outputs": [
    {
     "data": {
      "text/plain": [
       "(0.12668266475820214, 0.1454432223591526, 0.13541626028048218)"
      ]
     },
     "execution_count": 55,
     "metadata": {},
     "output_type": "execute_result"
    }
   ],
   "source": [
    "macro_precision,macro_recall,macro_f1"
   ]
  },
  {
   "cell_type": "markdown",
   "metadata": {},
   "source": [
    "### Calculate hit@5"
   ]
  },
  {
   "cell_type": "code",
   "execution_count": 65,
   "metadata": {},
   "outputs": [
    {
     "name": "stderr",
     "output_type": "stream",
     "text": [
      "10373it [00:01, 9189.86it/s]\n"
     ]
    }
   ],
   "source": [
    "hit_5 = 0.0\n",
    "cnt = 0\n",
    "for true,pred in tqdm(zip(etd_json,etd_result)):\n",
    "    matched = 0\n",
    "    t = true['lcsh'].keys()\n",
    "    p = pred.keys()\n",
    "    if any(elem in t for elem in targeted_lcsh):\n",
    "        for i in t:\n",
    "            if i in p:\n",
    "                matched += 1\n",
    "        cnt += 1\n",
    "    hit_5 += matched/len(t)\n",
    "hit_5 = hit_5 / cnt"
   ]
  },
  {
   "cell_type": "code",
   "execution_count": 68,
   "metadata": {},
   "outputs": [
    {
     "data": {
      "text/plain": [
       "0.1892589316149126"
      ]
     },
     "execution_count": 68,
     "metadata": {},
     "output_type": "execute_result"
    }
   ],
   "source": [
    "hit_5"
   ]
  },
  {
   "cell_type": "code",
   "execution_count": 63,
   "metadata": {},
   "outputs": [
    {
     "data": {
      "text/plain": [
       "False"
      ]
     },
     "execution_count": 63,
     "metadata": {},
     "output_type": "execute_result"
    }
   ],
   "source": [
    "any(elem in t for elem in targeted_lcsh)"
   ]
  }
 ],
 "metadata": {
  "kernelspec": {
   "display_name": "Python 3",
   "language": "python",
   "name": "python3"
  },
  "language_info": {
   "codemirror_mode": {
    "name": "ipython",
    "version": 3
   },
   "file_extension": ".py",
   "mimetype": "text/x-python",
   "name": "python",
   "nbconvert_exporter": "python",
   "pygments_lexer": "ipython3",
   "version": "3.6.6"
  }
 },
 "nbformat": 4,
 "nbformat_minor": 2
}
